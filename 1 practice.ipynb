{
 "cells": [
  {
   "cell_type": "code",
   "execution_count": 8,
   "metadata": {},
   "outputs": [
    {
     "name": "stdout",
     "output_type": "stream",
     "text": [
      "This \n",
      "is \n",
      "In Three Lines\n"
     ]
    }
   ],
   "source": [
    "# 1. print a sentence in 3 lines \n",
    "\n",
    "print(\"This \\nis \\nIn Three Lines\")"
   ]
  },
  {
   "cell_type": "code",
   "execution_count": 10,
   "metadata": {},
   "outputs": [
    {
     "name": "stdout",
     "output_type": "stream",
     "text": [
      "A is String 1 B is String 2\n"
     ]
    }
   ],
   "source": [
    "# 2. Assign two different stings to variables a and b. Print out a and b in one senetence using the + sign.\n",
    "\n",
    "a = \"A is String 1\"\n",
    "b = \" B is String 2\"\n",
    "\n",
    "print(a + b)\n"
   ]
  },
  {
   "cell_type": "code",
   "execution_count": 11,
   "metadata": {},
   "outputs": [
    {
     "name": "stdout",
     "output_type": "stream",
     "text": [
      "25\n"
     ]
    }
   ],
   "source": [
    "#3. Calculate the reminder of 2025 divided by 100\n",
    "\n",
    "answer = 2025 % 100\n",
    "\n",
    "print(answer)"
   ]
  },
  {
   "cell_type": "code",
   "execution_count": 13,
   "metadata": {},
   "outputs": [
    {
     "name": "stdout",
     "output_type": "stream",
     "text": [
      "8\n"
     ]
    }
   ],
   "source": [
    "#4. Calculate 2 to the 3rd power \n",
    "\n",
    "answer = pow(2,3)\n",
    "\n",
    "print(answer)"
   ]
  },
  {
   "cell_type": "code",
   "execution_count": 14,
   "metadata": {},
   "outputs": [
    {
     "name": "stdout",
     "output_type": "stream",
     "text": [
      "10\n",
      "10\n",
      "10\n",
      "10\n",
      "10\n",
      "10\n",
      "10\n",
      "10\n",
      "10\n",
      "10\n"
     ]
    }
   ],
   "source": [
    "#5. Assign 10 to a variable named \"not_a_number\", convert this variable to a string, and print it out 10 times. \n",
    "\n",
    "not_a_number = 10\n",
    "not_a_number = str(not_a_number)\n",
    "\n",
    "for i in range(10):\n",
    "    print(not_a_number)"
   ]
  },
  {
   "cell_type": "markdown",
   "metadata": {},
   "source": [
    "Click the three dots on the top of your file ( next to outline), export, choose html.   \n",
    "Open the saved html file, right click , print, save it as a PDF.   \n",
    "Submit the PDF on bright sapce.  "
   ]
  }
 ],
 "metadata": {
  "kernelspec": {
   "display_name": "Python 3",
   "language": "python",
   "name": "python3"
  },
  "language_info": {
   "codemirror_mode": {
    "name": "ipython",
    "version": 3
   },
   "file_extension": ".py",
   "mimetype": "text/x-python",
   "name": "python",
   "nbconvert_exporter": "python",
   "pygments_lexer": "ipython3",
   "version": "3.7.8"
  }
 },
 "nbformat": 4,
 "nbformat_minor": 2
}
