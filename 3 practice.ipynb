{
 "cells": [
  {
   "cell_type": "code",
   "execution_count": 2,
   "metadata": {},
   "outputs": [
    {
     "name": "stdout",
     "output_type": "stream",
     "text": [
      "['apple', 'oranges', 'grapes', 'banana']\n"
     ]
    }
   ],
   "source": [
    "# 1. Remove the first item from the list. \n",
    "# Append an item at the end of this list. \n",
    "# Then, insert an item at index 2. \n",
    "# Print out the final list\n",
    "\n",
    "shopping =[\"milk\",\"apple\",\"oranges\"]\n",
    "\n",
    "shopping.remove(\"milk\")\n",
    "shopping.append(\"banana\")\n",
    "shopping.insert(2,\"grapes\")\n",
    "\n",
    "print(shopping)"
   ]
  },
  {
   "cell_type": "code",
   "execution_count": 4,
   "metadata": {},
   "outputs": [
    {
     "name": "stdout",
     "output_type": "stream",
     "text": [
      "Your coffee is read Zoel\n",
      "Your coffee is read Nohell\n",
      "Your coffee is read Zez\n",
      "Your coffee is read Eva\n"
     ]
    }
   ],
   "source": [
    "# 2. create a list containing 4 names\n",
    "# print out \"Your coffee is read\" + name. \n",
    "# print out this for each names in the list.\n",
    "\n",
    "names = [\"Zoel\", \"Nohell\", \"Zez\", \"Eva\"]\n",
    "for name in names:\n",
    "    print(\"Your coffee is read \" + name)\n",
    "    \n"
   ]
  },
  {
   "cell_type": "code",
   "execution_count": 7,
   "metadata": {},
   "outputs": [
    {
     "name": "stdout",
     "output_type": "stream",
     "text": [
      "The square of 14 is 196\n",
      "The square of 50 is 2500\n",
      "The square of 100 is 10000\n",
      "The square of 75 is 5625\n",
      "The square of 81 is 6561\n"
     ]
    }
   ],
   "source": [
    "# 3. Create a list containing 5 numbers.\n",
    "# For each number in the list, print: \"The square of [number] is [square of the number]\".\n",
    "\n",
    "# expected outcome : \n",
    "# The square of 1 is 1\n",
    "# The square of 2 is 4 ...\n",
    "\n",
    "nums = [14, 50, 100, 75, 81]\n",
    "for num in nums:\n",
    "    print(\"The square of \" + str(num) + \" is \" + str(num*num))\n"
   ]
  },
  {
   "cell_type": "code",
   "execution_count": 11,
   "metadata": {},
   "outputs": [
    {
     "name": "stdout",
     "output_type": "stream",
     "text": [
      "bread\n",
      "tea\n"
     ]
    }
   ],
   "source": [
    "# 4. \n",
    "orders = [\n",
    "    [\"egg\", \"milk\", \"bread\", \"cheese\"],\n",
    "    [\"potato\", \"onion\", \"carrot\"],\n",
    "    [\"apple\", \"banana\"],\n",
    "    [\"chicken\", \"rice\", \"tomato\", \"garlic\", \"oil\"],\n",
    "    [\"coffee\"],\n",
    "    [\"pizza\", \"soda\", \"wings\"],\n",
    "    [\"fish\", \"lemon\", \"butter\", \"herbs\"],\n",
    "    [\"cereal\", \"milk\", \"sugar\"],\n",
    "    [\"pasta\", \"sauce\", \"cheese\", \"basil\", \"garlic\", \"olive oil\"],\n",
    "    [\"tea\"]\n",
    "]\n",
    "\n",
    "# access the third item on the first order\n",
    "# access the last item on the last order\n",
    "\n",
    "print(orders[0][2])\n",
    "print(orders[9][0])\n",
    "\n"
   ]
  }
 ],
 "metadata": {
  "kernelspec": {
   "display_name": "Python 3",
   "language": "python",
   "name": "python3"
  },
  "language_info": {
   "codemirror_mode": {
    "name": "ipython",
    "version": 3
   },
   "file_extension": ".py",
   "mimetype": "text/x-python",
   "name": "python",
   "nbconvert_exporter": "python",
   "pygments_lexer": "ipython3",
   "version": "3.7.8"
  }
 },
 "nbformat": 4,
 "nbformat_minor": 2
}
