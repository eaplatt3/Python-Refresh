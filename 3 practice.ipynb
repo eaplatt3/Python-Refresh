{
 "cells": [
  {
   "cell_type": "code",
   "execution_count": null,
   "metadata": {},
   "outputs": [],
   "source": [
    "# 1. Remove the first item from the list. \n",
    "# Append an item at the end of this list. \n",
    "# Then, insert an item at index 2. \n",
    "# Print out the final list\n",
    "\n",
    "shopping =[\"milk\",\"apple\",\"oranges\"]\n",
    "\n"
   ]
  },
  {
   "cell_type": "code",
   "execution_count": null,
   "metadata": {},
   "outputs": [],
   "source": [
    "# 2. create a list containing 4 names\n",
    "# print out \"Your coffee is read\" + name. \n",
    "# print out this for each names in the list.\n",
    "\n",
    "\n",
    "    \n"
   ]
  },
  {
   "cell_type": "code",
   "execution_count": null,
   "metadata": {},
   "outputs": [],
   "source": [
    "# 3. Create a list containing 5 numbers.\n",
    "# For each number in the list, print: \"The square of [number] is [square of the number]\".\n",
    "\n",
    "# expected outcome : \n",
    "# The square of 1 is 1\n",
    "# The square of 2 is 4 ...\n",
    "\n"
   ]
  },
  {
   "cell_type": "code",
   "execution_count": null,
   "metadata": {},
   "outputs": [],
   "source": [
    "# 4. \n",
    "orders = [\n",
    "    [\"egg\", \"milk\", \"bread\", \"cheese\"],\n",
    "    [\"potato\", \"onion\", \"carrot\"],\n",
    "    [\"apple\", \"banana\"],\n",
    "    [\"chicken\", \"rice\", \"tomato\", \"garlic\", \"oil\"],\n",
    "    [\"coffee\"],\n",
    "    [\"pizza\", \"soda\", \"wings\"],\n",
    "    [\"fish\", \"lemon\", \"butter\", \"herbs\"],\n",
    "    [\"cereal\", \"milk\", \"sugar\"],\n",
    "    [\"pasta\", \"sauce\", \"cheese\", \"basil\", \"garlic\", \"olive oil\"],\n",
    "    [\"tea\"]\n",
    "]\n",
    "\n",
    "# access the third item on the first order\n",
    "# access the last item on the last order\n",
    "\n"
   ]
  }
 ],
 "metadata": {
  "kernelspec": {
   "display_name": "Python 3",
   "language": "python",
   "name": "python3"
  },
  "language_info": {
   "codemirror_mode": {
    "name": "ipython",
    "version": 3
   },
   "file_extension": ".py",
   "mimetype": "text/x-python",
   "name": "python",
   "nbconvert_exporter": "python",
   "pygments_lexer": "ipython3",
   "version": "3.7.3"
  }
 },
 "nbformat": 4,
 "nbformat_minor": 2
}
